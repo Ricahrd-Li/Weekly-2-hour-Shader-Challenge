{
 "cells": [
  {
   "cell_type": "markdown",
   "metadata": {},
   "source": [
    "# 1. Prepare data"
   ]
  },
  {
   "cell_type": "code",
   "execution_count": 23,
   "metadata": {},
   "outputs": [
    {
     "name": "stdout",
     "output_type": "stream",
     "text": [
      "res = (420, 236), n_data = 99120\n",
      "train_data.shape = torch.Size([99120, 1])\n",
      "uv.shape = torch.Size([99120, 1])\n"
     ]
    },
    {
     "data": {
      "image/png": "[encoded data removed]",
      "text/plain": [
       "<PIL.Image.Image image mode=L size=420x236 at 0x1EF681649D0>"
      ]
     },
     "execution_count": 23,
     "metadata": {},
     "output_type": "execute_result"
    }
   ],
   "source": [
    "import torch\n",
    "import torch.nn as nn\n",
    "import torch.functional as F\n",
    "from torchvision import transforms\n",
    "import torchvision\n",
    "from PIL import Image\n",
    "import numpy as np\n",
    "\n",
    "data_img = Image.open(\"./test_small.png\")\n",
    "res = data_img.size\n",
    "n_data = res[0] * res[1]\n",
    "print(f\"res = {res}, n_data = {n_data}\")\n",
    "\n",
    "data_img_tensor = transforms.ToTensor()(data_img)[0]\n",
    "train_data = torch.reshape(\n",
    "        data_img_tensor,\n",
    "        (n_data, 1))\n",
    "\n",
    "print(f\"train_data.shape = {train_data.shape}\")\n",
    "\n",
    "# uv = np.mgrid[0:res[0]:1, 0:res[1]:1].reshape(2,-1).T\n",
    "# uv = torch.Tensor(uv).to(torch.long)\n",
    "# print(uv.shape)\n",
    "\n",
    "uv = torch.reshape(\n",
    "    torch.Tensor(np.array(range(0, res[0]*res[1]))),\n",
    "    (n_data, 1))\n",
    "\n",
    "print(f\"uv.shape = {uv.shape}\")\n",
    "\n",
    "transforms.ToPILImage()(data_img_tensor)"
   ]
  },
  {
   "cell_type": "markdown",
   "metadata": {},
   "source": [
    "# 2. Prepare Data Batch"
   ]
  },
  {
   "cell_type": "code",
   "execution_count": 24,
   "metadata": {},
   "outputs": [],
   "source": [
    "from torch.utils.data import Dataset, DataLoader\n",
    "\n",
    "batch_size = 128\n",
    "\n",
    "class customDataSet(Dataset):\n",
    "    def __init__(self, uv, data):\n",
    "        self.uv = uv \n",
    "        self.data = data\n",
    "        assert(self.data.shape[0] == n_data)\n",
    "\n",
    "    def __len__(self):\n",
    "        return self.data.shape[0] \n",
    "    \n",
    "    def __getitem__(self, idx):\n",
    "        input = self.uv[idx]\n",
    "        label = self.data[idx]\n",
    "        return input, label\n",
    "\n",
    "train_dataset = customDataSet(uv, train_data)\n",
    "\n",
    "train_dataloader = DataLoader(train_dataset, batch_size=batch_size, shuffle=True, pin_memory=True)\n",
    "val_dataloader = DataLoader(train_dataset, batch_size=batch_size, shuffle=True, pin_memory=True)"
   ]
  },
  {
   "cell_type": "markdown",
   "metadata": {},
   "source": [
    "# 3. Train MLP"
   ]
  },
  {
   "cell_type": "code",
   "execution_count": 25,
   "metadata": {},
   "outputs": [
    {
     "name": "stdout",
     "output_type": "stream",
     "text": [
      "Using cuda device\n",
      "[1,   150] loss: 2370257.787\n",
      "[1,   300] loss: 2.263\n",
      "[1,   450] loss: 1.274\n",
      "[1,   600] loss: 1.290\n",
      "[1,   750] loss: 1.288\n",
      "Accuracy of the network on the 99120 test data pair:0.000000\n",
      "[2,   150] loss: 1.287\n",
      "[2,   300] loss: 1.303\n",
      "[2,   450] loss: 1.279\n",
      "[2,   600] loss: 1.297\n",
      "[2,   750] loss: 1.258\n",
      "Accuracy of the network on the 99120 test data pair:0.000000\n",
      "[3,   150] loss: 1.306\n",
      "[3,   300] loss: 1.259\n",
      "[3,   450] loss: 1.299\n",
      "[3,   600] loss: 1.279\n",
      "[3,   750] loss: 1.287\n",
      "Accuracy of the network on the 99120 test data pair:0.000000\n",
      "[4,   150] loss: 1.277\n",
      "[4,   300] loss: 1.296\n",
      "[4,   450] loss: 1.294\n",
      "[4,   600] loss: 1.269\n",
      "[4,   750] loss: 1.271\n",
      "Accuracy of the network on the 99120 test data pair:0.000000\n",
      "[5,   150] loss: 1.266\n",
      "[5,   300] loss: 1.272\n",
      "[5,   450] loss: 1.267\n",
      "[5,   600] loss: 1.307\n",
      "[5,   750] loss: 1.280\n",
      "Accuracy of the network on the 99120 test data pair:0.000000\n",
      "[6,   150] loss: 1.290\n",
      "[6,   300] loss: 1.303\n",
      "[6,   450] loss: 1.238\n",
      "[6,   600] loss: 1.275\n"
     ]
    },
    {
     "ename": "KeyboardInterrupt",
     "evalue": "",
     "output_type": "error",
     "traceback": [
      "\u001b[1;31m---------------------------------------------------------------------------\u001b[0m",
      "\u001b[1;31mKeyboardInterrupt\u001b[0m                         Traceback (most recent call last)",
      "\u001b[1;32m~\\AppData\\Local\\Temp/ipykernel_49300/3447117576.py\u001b[0m in \u001b[0;36m<module>\u001b[1;34m\u001b[0m\n\u001b[0;32m     72\u001b[0m \u001b[1;33m\u001b[0m\u001b[0m\n\u001b[0;32m     73\u001b[0m         \u001b[0mloss\u001b[0m \u001b[1;33m=\u001b[0m \u001b[0mtrain\u001b[0m\u001b[1;33m(\u001b[0m\u001b[0minputs\u001b[0m\u001b[1;33m,\u001b[0m \u001b[0mlabels\u001b[0m\u001b[1;33m,\u001b[0m \u001b[0mmodel\u001b[0m\u001b[1;33m,\u001b[0m \u001b[0mloss_fn\u001b[0m\u001b[1;33m,\u001b[0m \u001b[0moptimizer\u001b[0m\u001b[1;33m)\u001b[0m\u001b[1;33m\u001b[0m\u001b[1;33m\u001b[0m\u001b[0m\n\u001b[1;32m---> 74\u001b[1;33m         \u001b[0mrunning_loss\u001b[0m \u001b[1;33m+=\u001b[0m \u001b[0mloss\u001b[0m\u001b[1;33m.\u001b[0m\u001b[0mitem\u001b[0m\u001b[1;33m(\u001b[0m\u001b[1;33m)\u001b[0m\u001b[1;33m\u001b[0m\u001b[1;33m\u001b[0m\u001b[0m\n\u001b[0m\u001b[0;32m     75\u001b[0m \u001b[1;33m\u001b[0m\u001b[0m\n\u001b[0;32m     76\u001b[0m         \u001b[0mn\u001b[0m \u001b[1;33m=\u001b[0m \u001b[1;36m150\u001b[0m\u001b[1;33m\u001b[0m\u001b[1;33m\u001b[0m\u001b[0m\n",
      "\u001b[1;31mKeyboardInterrupt\u001b[0m: "
     ]
    }
   ],
   "source": [
    "device = \"cuda\" if torch.cuda.is_available() else \"cpu\"\n",
    "print(\"Using {} device\".format(device))\n",
    "\n",
    "\n",
    "class sdf_net(nn.Module):\n",
    "    def __init__(self):\n",
    "        super(sdf_net, self).__init__()\n",
    "\n",
    "        self.linear_relu_stack = nn.Sequential(\n",
    "            nn.Linear(1, 5),\n",
    "            nn.ReLU(),\n",
    "            nn.Linear(5, 5),\n",
    "            nn.ReLU(),\n",
    "            nn.Linear(5, 1),\n",
    "        )\n",
    "    \n",
    "    def forward(self, x):\n",
    "        x = self.linear_relu_stack(x)\n",
    "        return x \n",
    "\n",
    "model = sdf_net().to(device)\n",
    "loss_fn = nn.MSELoss(reduction='mean')\n",
    "optimizer = torch.optim.Adam(model.parameters())\n",
    "\n",
    "def train(input, labels, model, loss_fn, optimizer):\n",
    "    model.train()\n",
    "    optimizer.zero_grad()\n",
    "\n",
    "    pred = model(input)\n",
    "    loss = loss_fn(pred, labels)\n",
    "    \n",
    "    loss.backward()\n",
    "    optimizer.step()\n",
    "\n",
    "    return loss\n",
    "\n",
    "def validate():\n",
    "    model.eval()\n",
    "    correct = 0\n",
    "    total = 0\n",
    "    # since we're not training, we don't need to calculate the gradients for our outputs\n",
    "    with torch.no_grad():\n",
    "        for data in val_dataloader:\n",
    "            inputs, labels = data\n",
    "            inputs = inputs.float()\n",
    "            inputs = inputs.to(device)\n",
    "            labels = labels.to(device)\n",
    "\n",
    "            outputs = model(inputs)\n",
    "            \n",
    "            _, predicted = torch.max(outputs, 1) # the class with the highest energy is what we choose as prediction\n",
    "            total += labels.size(0)\n",
    "            correct += ( abs(predicted - labels) < 0.1 ).sum().item()\n",
    "\n",
    "    acc = (100 * correct / total)\n",
    "    print(f'Accuracy of the network on the {total} test data pair:{acc:2f}'  )\n",
    "    return acc \n",
    "\n",
    "\n",
    "epoch = 10\n",
    "for e in range(epoch):\n",
    "    running_loss = 0.0\n",
    "\n",
    "    for i, data in enumerate(train_dataloader, 0):\n",
    "        # print(i)\n",
    "\n",
    "        inputs, labels = data # get the inputs; data is a list of [inputs, labels]\n",
    "        \n",
    "        inputs = inputs.float()\n",
    "        inputs = inputs.to(device)\n",
    "        labels = labels.to(device)\n",
    "\n",
    "        loss = train(inputs, labels, model, loss_fn, optimizer)\n",
    "        running_loss += loss.item()\n",
    "\n",
    "        n = 150\n",
    "        if i % n == n-1:    # print every 20 mini-batches\n",
    "            print('[%d, %5d] loss: %.3f' %\n",
    "                (e + 1, i + 1, running_loss / n))\n",
    "            running_loss = 0.0\n",
    "    \n",
    "    acc = validate()"
   ]
  },
  {
   "cell_type": "code",
   "execution_count": null,
   "metadata": {},
   "outputs": [
    {
     "data": {
      "text/plain": [
       "tensor([1.])"
      ]
     },
     "execution_count": 20,
     "metadata": {},
     "output_type": "execute_result"
    }
   ],
   "source": [
    "train_data[61736]"
   ]
  },
  {
   "cell_type": "code",
   "execution_count": null,
   "metadata": {},
   "outputs": [
    {
     "name": "stdout",
     "output_type": "stream",
     "text": [
      "tensor([[1.0786],\n",
      "        [1.0829],\n",
      "        [1.0519],\n",
      "        ...,\n",
      "        [1.0285],\n",
      "        [1.0285],\n",
      "        [1.0285]])\n"
     ]
    },
    {
     "data": {
      "text/plain": [
       "tensor(44.8920)"
      ]
     },
     "execution_count": 21,
     "metadata": {},
     "output_type": "execute_result"
    }
   ],
   "source": [
    "fit = model(uv.to(device)).cpu().detach()\n",
    "print(fit)\n",
    "\n",
    "(fit - train_data.cpu().detach()).norm()"
   ]
  },
  {
   "cell_type": "code",
   "execution_count": null,
   "metadata": {},
   "outputs": [
    {
     "data": {
      "image/png": "[encoded data removed]",
      "text/plain": [
       "<PIL.Image.Image image mode=L size=420x236 at 0x1EF68151CA0>"
      ]
     },
     "execution_count": 22,
     "metadata": {},
     "output_type": "execute_result"
    }
   ],
   "source": [
    "fit = torch.reshape(\n",
    "    fit,\n",
    "    (res[1], res[0])\n",
    ")\n",
    "\n",
    "fit_to_pil_img = transforms.ToPILImage()(fit)\n",
    "fit_to_pil_img"
   ]
  }
 ],
 "metadata": {
  "interpreter": {
   "hash": "5f19e5527ea3a7295cf6de3374f84590014fff477197d10623aa6210afbfacf1"
  },
  "kernelspec": {
   "display_name": "Python 3.9.6 64-bit",
   "language": "python",
   "name": "python3"
  },
  "language_info": {
   "codemirror_mode": {
    "name": "ipython",
    "version": 3
   },
   "file_extension": ".py",
   "mimetype": "text/x-python",
   "name": "python",
   "nbconvert_exporter": "python",
   "pygments_lexer": "ipython3",
   "version": "3.9.6"
  },
  "orig_nbformat": 4
 },
 "nbformat": 4,
 "nbformat_minor": 2
}
