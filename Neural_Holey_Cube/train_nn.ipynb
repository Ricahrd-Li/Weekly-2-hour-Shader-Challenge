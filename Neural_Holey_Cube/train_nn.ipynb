{
 "cells": [
  {
   "cell_type": "code",
   "execution_count": 67,
   "metadata": {},
   "outputs": [
    {
     "name": "stdout",
     "output_type": "stream",
     "text": [
      "res = (420, 236), n_data = 99120\n",
      "data.shape = torch.Size([99120, 1])\n",
      "uv.shape = torch.Size([99120, 1])\n"
     ]
    },
    {
     "data": {
      "image/png": "[encoded data removed]",
      "text/plain": [
       "<PIL.PngImagePlugin.PngImageFile image mode=RGBA size=420x236 at 0x7FEE60A36460>"
      ]
     },
     "execution_count": 67,
     "metadata": {},
     "output_type": "execute_result"
    }
   ],
   "source": [
    "import torch\n",
    "import torch.nn as nn\n",
    "import torch.functional as F\n",
    "from torchvision import transforms\n",
    "import torchvision\n",
    "from PIL import Image\n",
    "import numpy as np\n",
    "\n",
    "data_img = Image.open(\"./test_small2.png\")\n",
    "res = data_img.size\n",
    "print(f\"res = {res}, n_data = {res[0] * res[1]}\")\n",
    "\n",
    "# data = torch.reshape(\n",
    "#     torch.transpose(\n",
    "#         transforms.ToTensor()(data_img)[0], 0, 1),\n",
    "#         (res[0] * res[1], 1))\n",
    "data = torch.reshape(\n",
    "        transforms.ToTensor()(data_img)[0],\n",
    "        (res[0] * res[1], 1))\n",
    "print(f\"data.shape = {data.shape}\")\n",
    "\n",
    "# uv = np.mgrid[0:res[0]:1, 0:res[1]:1].reshape(2,-1).T\n",
    "# uv = torch.Tensor(uv).to(torch.long)\n",
    "# print(uv.shape)\n",
    "\n",
    "uv = torch.reshape(\n",
    "    torch.Tensor(np.array(range(0, res[0]*res[1]))),\n",
    "    (res[0] * res[1], 1))\n",
    "\n",
    "print(f\"uv.shape = {uv.shape}\")\n",
    "\n",
    "data_img"
   ]
  },
  {
   "cell_type": "code",
   "execution_count": 68,
   "metadata": {},
   "outputs": [
    {
     "name": "stdout",
     "output_type": "stream",
     "text": [
      "Using cpu device\n",
      "0: 0.1459236443042755\n"
     ]
    },
    {
     "name": "stderr",
     "output_type": "stream",
     "text": [
      "/Library/Frameworks/Python.framework/Versions/3.8/lib/python3.8/site-packages/torch/nn/modules/container.py:141: UserWarning: Implicit dimension choice for softmax has been deprecated. Change the call to include dim=X as an argument.\n",
      "  input = module(input)\n"
     ]
    },
    {
     "name": "stdout",
     "output_type": "stream",
     "text": [
      "100: 0.1459236443042755\n"
     ]
    }
   ],
   "source": [
    "device = \"cuda\" if torch.cuda.is_available() else \"cpu\"\n",
    "print(\"Using {} device\".format(device))\n",
    "\n",
    "class sdf_net(nn.Module):\n",
    "    def __init__(self):\n",
    "        super(sdf_net, self).__init__()\n",
    "\n",
    "        self.linear_relu_stack = nn.Sequential(\n",
    "            nn.Linear(1, 5),\n",
    "            nn.Sigmoid(),\n",
    "            nn.Linear(5, 5),\n",
    "            nn.Sigmoid(),\n",
    "            nn.Linear(5, 1),\n",
    "            nn.Softmax()\n",
    "        )\n",
    "    \n",
    "    def forward(self, x):\n",
    "        x = self.linear_relu_stack(x)\n",
    "        return x \n",
    "\n",
    "model = sdf_net().to(device)\n",
    "loss_fn = nn.MSELoss(reduction='mean')\n",
    "# loss_fn = nn.CrossEntropyLoss()\n",
    "optimizer = torch.optim.Adam(model.parameters())\n",
    "\n",
    "def train(model, loss_fn, optimizer):\n",
    "\n",
    "    pred = model(uv)\n",
    "    loss = loss_fn(pred, data)\n",
    "\n",
    "    optimizer.zero_grad()\n",
    "    loss.backward()\n",
    "    optimizer.step()\n",
    "\n",
    "    return loss\n",
    "\n",
    "max_iter = 200\n",
    "loss_list = []\n",
    "\n",
    "for t in range(max_iter):\n",
    "    loss = train(model, loss_fn, optimizer)\n",
    "    loss_list.append(loss)\n",
    "    if t % 100 == 0:\n",
    "        print(f\"{t}: {loss}\")"
   ]
  },
  {
   "cell_type": "code",
   "execution_count": 66,
   "metadata": {},
   "outputs": [
    {
     "name": "stdout",
     "output_type": "stream",
     "text": [
      "tensor([[1.],\n",
      "        [1.],\n",
      "        [1.],\n",
      "        ...,\n",
      "        [1.],\n",
      "        [1.],\n",
      "        [1.]])\n"
     ]
    },
    {
     "name": "stderr",
     "output_type": "stream",
     "text": [
      "/Library/Frameworks/Python.framework/Versions/3.8/lib/python3.8/site-packages/torch/nn/modules/container.py:141: UserWarning: Implicit dimension choice for softmax has been deprecated. Change the call to include dim=X as an argument.\n",
      "  input = module(input)\n"
     ]
    },
    {
     "data": {
      "text/plain": [
       "tensor(120.2656)"
      ]
     },
     "execution_count": 66,
     "metadata": {},
     "output_type": "execute_result"
    }
   ],
   "source": [
    "fit = model(uv).cpu().detach()\n",
    "print(fit)\n",
    "\n",
    "(fit - data).norm()"
   ]
  },
  {
   "cell_type": "code",
   "execution_count": 65,
   "metadata": {},
   "outputs": [
    {
     "data": {
      "image/png": "[encoded data removed]",
      "text/plain": [
       "<PIL.Image.Image image mode=L size=420x236 at 0x7FEE60A4B9A0>"
      ]
     },
     "execution_count": 65,
     "metadata": {},
     "output_type": "execute_result"
    }
   ],
   "source": [
    "fit = torch.reshape(\n",
    "    fit,\n",
    "    (res[1], res[0])\n",
    ")\n",
    "\n",
    "fit_to_pil_img = transforms.ToPILImage()(fit)\n",
    "fit_to_pil_img"
   ]
  },
  {
   "cell_type": "code",
   "execution_count": null,
   "metadata": {},
   "outputs": [],
   "source": []
  },
  {
   "cell_type": "code",
   "execution_count": null,
   "metadata": {},
   "outputs": [],
   "source": []
  },
  {
   "cell_type": "code",
   "execution_count": null,
   "metadata": {},
   "outputs": [],
   "source": []
  }
 ],
 "metadata": {
  "interpreter": {
   "hash": "082e9a3bcad0a290d0001e938aa60b99250c6c2ef33a923c00b70f9826caf4b7"
  },
  "kernelspec": {
   "display_name": "Python 3.8.5 64-bit",
   "language": "python",
   "name": "python3"
  },
  "language_info": {
   "codemirror_mode": {
    "name": "ipython",
    "version": 3
   },
   "file_extension": ".py",
   "mimetype": "text/x-python",
   "name": "python",
   "nbconvert_exporter": "python",
   "pygments_lexer": "ipython3",
   "version": "3.8.5"
  },
  "orig_nbformat": 4
 },
 "nbformat": 4,
 "nbformat_minor": 2
}
